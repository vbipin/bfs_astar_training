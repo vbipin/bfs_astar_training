{
 "cells": [
  {
   "cell_type": "code",
   "execution_count": 1,
   "id": "4f757b13-18c1-4c46-87ca-1c0e331b4227",
   "metadata": {},
   "outputs": [],
   "source": [
    "#we are going to create a small graph to test out bfs/dfs implementations"
   ]
  },
  {
   "cell_type": "code",
   "execution_count": 13,
   "id": "4b0e6f23-1ce7-4660-a7b6-40eeddad01f6",
   "metadata": {},
   "outputs": [],
   "source": [
    "#ref : https://graphonline.ru/en/\n",
    "#Image(filename='metro.png')"
   ]
  },
  {
   "cell_type": "markdown",
   "id": "de992379-e513-4dfd-a18d-c0ed15b3dc3c",
   "metadata": {},
   "source": [
    "<img src=\"metro.png\"/>"
   ]
  },
  {
   "cell_type": "code",
   "execution_count": 3,
   "id": "1f788c08-654f-413d-9439-dfbe5559eb9e",
   "metadata": {},
   "outputs": [],
   "source": [
    "#Assume the graph is about shanghai metro\n",
    "#the graph is about shanghai metro\n",
    "shanghai_metro = {\n",
    "    0 : [1],\n",
    "    1 : [0,2,3,4],\n",
    "    2 : [1],\n",
    "    3 : [1,5],\n",
    "    4 : [1,5,6,7],\n",
    "    5 : [3,4,8],\n",
    "    6:  [4],\n",
    "    7:  [4,8],  \n",
    "    8:  [5,7]\n",
    "}\n",
    "\n",
    "#We actually dont need a function here. But this is what we will be doing in \n",
    "#more complex situations\n",
    "def successors( node ) :\n",
    "    \"\"\"Returns the nodes next to the node\"\"\"\n",
    "    return shanghai_metro[node]\n"
   ]
  },
  {
   "cell_type": "code",
   "execution_count": null,
   "id": "6d6e03b5",
   "metadata": {},
   "outputs": [],
   "source": []
  },
  {
   "cell_type": "code",
   "execution_count": 4,
   "id": "e6a1519a-1d54-4b2b-bd59-3f5e325486b8",
   "metadata": {},
   "outputs": [],
   "source": [
    "##########################################################################"
   ]
  },
  {
   "cell_type": "markdown",
   "id": "d98ceb23",
   "metadata": {},
   "source": [
    "## Q1 Implement the BFS function"
   ]
  },
  {
   "cell_type": "code",
   "execution_count": null,
   "id": "57eb0e07",
   "metadata": {},
   "outputs": [],
   "source": [
    "#First task is to write a bfs function.\n",
    "#Funtion takes start and goal nodes as input and returns a list of nodes from start to goal\n",
    "\n",
    "def bfs(start, goal) :\n",
    "    \"\"\"returns the path list of nodes from start to goal\"\"\"\n",
    "    pass\n",
    "    #TODO\n",
    "    \n",
    "    "
   ]
  },
  {
   "cell_type": "code",
   "execution_count": null,
   "id": "1b1c9f5e",
   "metadata": {},
   "outputs": [],
   "source": [
    "start = 0\n",
    "goal  = 7\n",
    "\n",
    "path = bfs(start, goal)\n",
    "print(p)\n",
    "\n",
    "#path should be [0, 1, 4, 7]"
   ]
  },
  {
   "cell_type": "code",
   "execution_count": null,
   "id": "aeead8c8",
   "metadata": {},
   "outputs": [],
   "source": [
    "##########################################################################"
   ]
  },
  {
   "cell_type": "markdown",
   "id": "bb0d71cc",
   "metadata": {},
   "source": [
    "## Q2 Print all the nodes visited by the algorithm"
   ]
  },
  {
   "cell_type": "code",
   "execution_count": 13,
   "id": "7336d89c-f7c7-4237-985a-9300ef93a3a2",
   "metadata": {},
   "outputs": [
    {
     "data": {
      "text/plain": [
       "1"
      ]
     },
     "execution_count": 13,
     "metadata": {},
     "output_type": "execute_result"
    }
   ],
   "source": [
    "start = 0\n",
    "goal  = 7\n",
    "\n",
    "#p = bfs(start, goal)\n",
    "\n",
    "#example output\n",
    "\"\"\"\n",
    "visited: {0: True}\n",
    "visited: {0: True, 1: True}\n",
    "visited: {0: True, 1: True, 2: True, 3: True, 4: True}\n",
    "visited: {0: True, 1: True, 2: True, 3: True, 4: True}\n",
    "visited: {0: True, 1: True, 2: True, 3: True, 4: True, 5: True}\n",
    "visited: {0: True, 1: True, 2: True, 3: True, 4: True, 5: True, 6: True, 7: True} 8\n",
    "\n",
    "\"\"\"\n",
    "1\n",
    "\n"
   ]
  },
  {
   "cell_type": "code",
   "execution_count": null,
   "id": "2ea12b0c",
   "metadata": {},
   "outputs": [],
   "source": []
  },
  {
   "cell_type": "code",
   "execution_count": null,
   "id": "0ea65c9e-d906-462d-8e1d-d8713659ad47",
   "metadata": {},
   "outputs": [],
   "source": []
  },
  {
   "cell_type": "code",
   "execution_count": 14,
   "id": "2aabedee-a251-45da-a97b-05a5abc30a96",
   "metadata": {},
   "outputs": [],
   "source": [
    "##########################################################################"
   ]
  },
  {
   "cell_type": "code",
   "execution_count": null,
   "id": "4b95f769",
   "metadata": {},
   "outputs": [],
   "source": []
  }
 ],
 "metadata": {
  "kernelspec": {
   "display_name": "Python 3",
   "language": "python",
   "name": "python3"
  },
  "language_info": {
   "codemirror_mode": {
    "name": "ipython",
    "version": 3
   },
   "file_extension": ".py",
   "mimetype": "text/x-python",
   "name": "python",
   "nbconvert_exporter": "python",
   "pygments_lexer": "ipython3",
   "version": "3.8.8"
  }
 },
 "nbformat": 4,
 "nbformat_minor": 5
}
