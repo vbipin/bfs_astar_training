{
 "cells": [
  {
   "cell_type": "code",
   "execution_count": 1,
   "id": "ad83f5e0-d71b-4471-b986-752084b64b24",
   "metadata": {},
   "outputs": [],
   "source": [
    "#8puzzle\n",
    "#bfs/dfs, Astar"
   ]
  },
  {
   "cell_type": "code",
   "execution_count": 2,
   "id": "72286ff6-e2f2-4339-ad53-af64bd1ddb78",
   "metadata": {},
   "outputs": [],
   "source": [
    "#I will try to use the minimum required libs from python\n",
    "#Also the code is written with simplicity in mind than efficiency\n",
    "#the code is suboptimal; to be used only as a teaching resource"
   ]
  },
  {
   "cell_type": "code",
   "execution_count": null,
   "id": "c66d7268-916b-4c85-bbcc-9cbb3768e017",
   "metadata": {},
   "outputs": [],
   "source": [
    "#########################################################################"
   ]
  },
  {
   "cell_type": "code",
   "execution_count": null,
   "id": "0523976a-a466-4cda-9aaf-51e638679464",
   "metadata": {},
   "outputs": [],
   "source": [
    "#In this we will use the bfs and astar algorithms to solve the 8 puzzle\n",
    "#Here is a page explaining the puzzle : https://www.d.umn.edu/~jrichar4/8puz.html\n",
    "#    \n",
    "# An 8 puzzle is a simple game consisting of a 3 x 3 grid (containing 9 squares). One of the squares is empty.\n",
    "#The object is to move to squares around into different positions and having the numbers displayed in the \"goal state\".\n",
    "#The image to the left can be thought of as an unsolved initial state of the \"3 x 3\" 8 puzzle. \n",
    "#\n"
   ]
  },
  {
   "cell_type": "code",
   "execution_count": 1,
   "id": "98ea1a29-904d-4094-a9d6-05b4931eb2d9",
   "metadata": {},
   "outputs": [],
   "source": [
    "#An 8 puzzle board is given as a tuple. We need it as a tuple because\n",
    "# we are going to store it in dicts\n",
    "\n",
    "goal  = ((1,2,3),\n",
    "         (4,5,6),\n",
    "         (7,8,0))\n"
   ]
  },
  {
   "cell_type": "code",
   "execution_count": 2,
   "id": "a196220e-7597-4f14-95b3-dd8363552046",
   "metadata": {},
   "outputs": [],
   "source": [
    "def print_board(board) :\n",
    "    #world is global \n",
    "    for r in range(len(board)) :\n",
    "        for c in range(len(board[0])):\n",
    "            #print(board[r][c], end=\" \")\n",
    "            print(\"%2i\" % board[r][c], end=\" \")\n",
    "        print(\"\")\n",
    "    print(\"____________\")"
   ]
  },
  {
   "cell_type": "code",
   "execution_count": 3,
   "id": "b732fc14-86b0-4df7-8e3f-63c6c84445be",
   "metadata": {},
   "outputs": [
    {
     "name": "stdout",
     "output_type": "stream",
     "text": [
      " 1  2  3 \n",
      " 4  5  6 \n",
      " 7  8  0 \n",
      "____________\n"
     ]
    }
   ],
   "source": [
    "#print_board(start)\n",
    "print_board(goal)"
   ]
  },
  {
   "cell_type": "code",
   "execution_count": 4,
   "id": "d6b15c86-b688-4c5d-a882-cff7c2c60468",
   "metadata": {},
   "outputs": [],
   "source": [
    "#########################################################################"
   ]
  },
  {
   "cell_type": "code",
   "execution_count": null,
   "id": "3c692b6e-ac44-4f44-b298-7877553e1a27",
   "metadata": {},
   "outputs": [],
   "source": []
  },
  {
   "cell_type": "code",
   "execution_count": 5,
   "id": "f5791f39-4b9a-4ed0-8917-29d05b97e4d3",
   "metadata": {},
   "outputs": [],
   "source": [
    "#We need a move function to generate next boards. \n",
    "#if valid :\n",
    "#     move the blank position to left, right, up, or down \n",
    "# else :\n",
    "#     return None\n",
    "\n",
    "\n",
    "left = 0\n",
    "right= 1\n",
    "up   = 2\n",
    "down = 3\n",
    "\n",
    "#Function to find the row, column of an item in the grid\n",
    "#usually called to find the position of the blank( 0 )\n",
    "def find_position( board, item ):\n",
    "    Nrows    = len(board)\n",
    "    Ncolumns = len(board[0])\n",
    "    for r in range(Nrows) :\n",
    "        for c in range(Ncolumns):\n",
    "            if board[r][c] == item :\n",
    "                return r,c\n",
    "    #some error\n",
    "    return None\n",
    "                \n",
    "def move( board, action) :\n",
    "    \"\"\"move blank in the direction\"\"\"\n",
    "    \n",
    "    Nrows    = len(board)\n",
    "    Ncolumns = len(board[0])\n",
    "    \n",
    "    board = [ list(row) for row in board ] #tuple to list; because we need to make a change. This will also make a copy\n",
    "    \n",
    "    \n",
    "    #nor r,c is the position of zero\n",
    "    zr, zc = find_position( board, 0)\n",
    "    r,c = zr, zc\n",
    "    \n",
    "    if action == up :\n",
    "        r,c = zr-1, zc  \n",
    "    if action == down :\n",
    "        r,c = zr+1, zc\n",
    "    if action == right :\n",
    "        r,c = zr, zc+1  \n",
    "    if action == left :\n",
    "        r,c = zr, zc-1\n",
    "        \n",
    "    #is it outside the grid?   \n",
    "    if r < 0 or r >= Nrows or c < 0 or c >= Ncolumns :\n",
    "        return None\n",
    "    \n",
    "    board[zr][zc] = board[r][c]\n",
    "    board[r][c] = 0\n",
    "\n",
    "    \n",
    "    return tuple([ tuple(row) for row in board ]) #the incoming bord will not be modified"
   ]
  },
  {
   "cell_type": "code",
   "execution_count": null,
   "id": "ba68e400-455d-45c5-af97-80ac3e9d4a9a",
   "metadata": {},
   "outputs": [],
   "source": []
  },
  {
   "cell_type": "code",
   "execution_count": 6,
   "id": "cf868fd5-d2d7-4e1e-8438-a3dc300244a1",
   "metadata": {},
   "outputs": [],
   "source": [
    "def successors( board ) :\n",
    "    \"\"\" returns a list of next valid boards from this position\"\"\"\n",
    "    #depends on the blank position we may have 2,3, or 4 next boards\n",
    "    next_boards = []\n",
    "    for direction in [up, left,right,down] :\n",
    "        new = move(board, direction)\n",
    "        if new is not None :\n",
    "            next_boards.append( new )\n",
    "    return next_boards"
   ]
  },
  {
   "cell_type": "code",
   "execution_count": null,
   "id": "811af690-8242-4918-b3a4-b3156d29c1ac",
   "metadata": {},
   "outputs": [],
   "source": []
  },
  {
   "cell_type": "code",
   "execution_count": 7,
   "id": "6bb8f807-7448-45c2-acaf-4a19ab659491",
   "metadata": {},
   "outputs": [],
   "source": [
    "#A hacky way to create a random initial 8puzzle\n",
    "import random\n",
    "def shuffle_puzzle(goal, N=100) :\n",
    "    for _ in range(N) :\n",
    "        kids = successors( goal )\n",
    "        goal = random.choice(kids)\n",
    "    return goal"
   ]
  },
  {
   "cell_type": "code",
   "execution_count": 8,
   "id": "6dfb2e9b-7a79-42ce-90da-e67d649e94f5",
   "metadata": {},
   "outputs": [
    {
     "name": "stdout",
     "output_type": "stream",
     "text": [
      " 2  4  3 \n",
      " 7  0  1 \n",
      " 5  8  6 \n",
      "____________\n"
     ]
    }
   ],
   "source": [
    "start = shuffle_puzzle(goal)\n",
    "print_board(start)"
   ]
  },
  {
   "cell_type": "code",
   "execution_count": 9,
   "id": "575cb5d2-25c2-4aed-9d90-e0356422d1d7",
   "metadata": {},
   "outputs": [
    {
     "name": "stdout",
     "output_type": "stream",
     "text": [
      " 2  0  3 \n",
      " 7  4  1 \n",
      " 5  8  6 \n",
      "____________\n",
      " 2  4  3 \n",
      " 0  7  1 \n",
      " 5  8  6 \n",
      "____________\n",
      " 2  4  3 \n",
      " 7  1  0 \n",
      " 5  8  6 \n",
      "____________\n",
      " 2  4  3 \n",
      " 7  8  1 \n",
      " 5  0  6 \n",
      "____________\n"
     ]
    }
   ],
   "source": [
    "for b in successors( start ):\n",
    "    print_board(b)"
   ]
  },
  {
   "cell_type": "markdown",
   "id": "9448bc41",
   "metadata": {},
   "source": [
    "## Q1 Copy BFS function from previous notebooks and run"
   ]
  },
  {
   "cell_type": "code",
   "execution_count": null,
   "id": "7a08e47c-1d5c-4bf9-9829-46964d93a770",
   "metadata": {},
   "outputs": [],
   "source": [
    "#########################################################################\n",
    "# BFS - Breadth First Search\n",
    "#########################################################################"
   ]
  },
  {
   "cell_type": "code",
   "execution_count": 58,
   "id": "5ea6c02d-7bf0-4913-ae97-bfcef2c89e77",
   "metadata": {},
   "outputs": [],
   "source": [
    "#now we are ready to build dfs and bfs"
   ]
  },
  {
   "cell_type": "code",
   "execution_count": 24,
   "id": "2ef5342d-bed9-4459-858d-050263c85a29",
   "metadata": {},
   "outputs": [
    {
     "name": "stdout",
     "output_type": "stream",
     "text": [
      " 0  8  1 \n",
      " 4  2  7 \n",
      " 5  6  3 \n",
      "--------------\n",
      "visited: 134920\n"
     ]
    }
   ],
   "source": [
    "start = ((0,8,1),(4,2,7),(5,6,3))\n",
    "print_board(start)\n",
    "p = bfs(start, goal)"
   ]
  },
  {
   "cell_type": "code",
   "execution_count": 64,
   "id": "45b68e0e-d5af-4816-8c7c-407b8417cef5",
   "metadata": {},
   "outputs": [
    {
     "data": {
      "text/plain": [
       "25"
      ]
     },
     "execution_count": 64,
     "metadata": {},
     "output_type": "execute_result"
    }
   ],
   "source": [
    "len(p)"
   ]
  },
  {
   "cell_type": "code",
   "execution_count": null,
   "id": "3ec1b26d",
   "metadata": {},
   "outputs": [],
   "source": []
  },
  {
   "cell_type": "code",
   "execution_count": null,
   "id": "94f16afe-2bc1-489d-8772-8abba61d1ff7",
   "metadata": {},
   "outputs": [],
   "source": [
    "#########################################################################\n",
    "# A*\n",
    "#########################################################################"
   ]
  },
  {
   "cell_type": "markdown",
   "id": "a90620f3",
   "metadata": {},
   "source": [
    "## Q2 Implement a very simple priority que using dict"
   ]
  },
  {
   "cell_type": "code",
   "execution_count": 10,
   "id": "6b1c516f-7d2c-4825-9231-a8b97b261c6d",
   "metadata": {},
   "outputs": [
    {
     "data": {
      "text/plain": [
       "1"
      ]
     },
     "execution_count": 10,
     "metadata": {},
     "output_type": "execute_result"
    }
   ],
   "source": [
    "#we need a priority queue\n",
    "#XXX This is a VERY BAD Priority Queue. \n",
    "#We use it just for debugging.\n",
    "\n",
    "\"\"\"\n",
    "#it returns the min number item\n",
    "def priority_append(pq, item, priority) :\n",
    "    pq[item] = priority #pq is just a dict\n",
    "    \n",
    "def priority_pop(pq) :\n",
    "    min_priority = min(pq.values())\n",
    "    for key in pq :\n",
    "        if pq[key] == min_priority :\n",
    "            pq.pop(key) #delete that item from queue\n",
    "            return key, min_priority\n",
    "    return None #impossible\n",
    "\n",
    "\"\"\"\n",
    "1"
   ]
  },
  {
   "cell_type": "markdown",
   "id": "ada8b68f",
   "metadata": {},
   "source": [
    "## Q3 Implement a simple heuristic \n",
    "Lot of links on web. \n",
    "https://web.mit.edu/6.034/wwwbob/EightPuzzle.pdf\n",
    "\n",
    "https://www.cse.iitk.ac.in/users/cs365/2009/ppt/13jan_Aman.pdf"
   ]
  },
  {
   "cell_type": "code",
   "execution_count": null,
   "id": "2f22caeb-2941-4b2f-a9f9-94087f794189",
   "metadata": {},
   "outputs": [],
   "source": [
    "\"\"\"\n",
    "def heuristic_simple( board, goal) :\n",
    "    h = 0\n",
    "    for i in range(9) :\n",
    "        if board[i] == 0 :\n",
    "            continue\n",
    "        if board[i] != goal[i] :\n",
    "            h += 1\n",
    "    return h\n",
    "\"\"\""
   ]
  },
  {
   "cell_type": "markdown",
   "id": "4eb37dbc",
   "metadata": {},
   "source": [
    "## Q4 Implement the sum of Manhattan distance heuristic"
   ]
  },
  {
   "cell_type": "code",
   "execution_count": 13,
   "id": "75074ef8-c232-4ec6-bb2b-b57dc18226ad",
   "metadata": {},
   "outputs": [],
   "source": [
    "\"\"\"\n",
    "def heuristic( board, goal) :    \n",
    "    Nrows    = len(board)\n",
    "    Ncolumns = len(board[0])\n",
    "    h = 0\n",
    "    for r in range(Nrows) :\n",
    "        for c in range(Ncolumns):\n",
    "            if board[r][c] == 0 :\n",
    "                continue\n",
    "            rg,cg = find_position(goal, board[r][c])\n",
    "            h += (abs(rg-r) + abs(cg-c))\n",
    "    return h\n",
    "\"\"\"     "
   ]
  },
  {
   "cell_type": "markdown",
   "id": "4b3ed112",
   "metadata": {},
   "source": [
    "## Q5 Implement the greedy algorithm"
   ]
  },
  {
   "cell_type": "code",
   "execution_count": null,
   "id": "2c0b7f10",
   "metadata": {},
   "outputs": [],
   "source": [
    "start = shuffle_puzzle(goal)\n",
    "path  = greedy(start, goal)\n",
    "print (len(path))"
   ]
  },
  {
   "cell_type": "code",
   "execution_count": null,
   "id": "4a7aeb6a",
   "metadata": {},
   "outputs": [],
   "source": []
  },
  {
   "cell_type": "markdown",
   "id": "3bbb99f0",
   "metadata": {},
   "source": [
    "## Q6 Implement the astar algorithm"
   ]
  },
  {
   "cell_type": "code",
   "execution_count": null,
   "id": "e8593ac6-c352-4110-ad05-5ae9f075f9cc",
   "metadata": {},
   "outputs": [],
   "source": [
    "start = shuffle_puzzle(goal)\n",
    "astar_path  = astar(start, goal)\n",
    "print (len(astar_path))"
   ]
  },
  {
   "cell_type": "code",
   "execution_count": null,
   "id": "865b2e0b-60ee-4e66-9f42-d1997d030c9d",
   "metadata": {},
   "outputs": [],
   "source": []
  },
  {
   "cell_type": "code",
   "execution_count": null,
   "id": "da19852c-293a-4531-87d2-9d84343516bf",
   "metadata": {},
   "outputs": [],
   "source": [
    "#########################################################################"
   ]
  },
  {
   "cell_type": "markdown",
   "id": "c395146f",
   "metadata": {},
   "source": [
    "## Q7 Some fun start states"
   ]
  },
  {
   "cell_type": "code",
   "execution_count": 53,
   "id": "e28808d2-54e1-4a9b-a91c-96d1519338fa",
   "metadata": {},
   "outputs": [
    {
     "name": "stdout",
     "output_type": "stream",
     "text": [
      "visited: 181439\n",
      "visited: 104\n",
      "20415\n",
      "32 48 32\n"
     ]
    }
   ],
   "source": [
    "#hardest puzzle ref: http://w01fe.com/blog/2009/01/the-hardest-eight-puzzle-instances-take-31-moves-to-solve/\n",
    "\n",
    "#start = ((8,6,7),(2,5,4),(3,0,1))\n",
    "start = ((6,4,7),(8,5,0),(3,2,1))\n",
    "\n",
    "\n",
    "x = bfs(start,goal)\n",
    "y = greedy(start,goal)\n",
    "z = astar(start, goal)\n",
    "\n",
    "print(len(x), len(y), len(z))"
   ]
  },
  {
   "cell_type": "code",
   "execution_count": 54,
   "id": "cfe1e303-e14e-4f29-8654-3c443760feb2",
   "metadata": {},
   "outputs": [
    {
     "name": "stdout",
     "output_type": "stream",
     "text": [
      "visited: 181440\n",
      "0\n"
     ]
    }
   ],
   "source": [
    "#Special start, impossible\n",
    "# No path exists\n",
    "start = ((1,2,3),(4,5,6),(8,7,0))\n",
    "\n",
    "x = bfs(start,goal)\n",
    "\n",
    "print(len(x))"
   ]
  },
  {
   "cell_type": "code",
   "execution_count": null,
   "id": "195446fe-f647-49d0-b6c7-1a5c858d2fea",
   "metadata": {},
   "outputs": [],
   "source": []
  }
 ],
 "metadata": {
  "kernelspec": {
   "display_name": "Python 3",
   "language": "python",
   "name": "python3"
  },
  "language_info": {
   "codemirror_mode": {
    "name": "ipython",
    "version": 3
   },
   "file_extension": ".py",
   "mimetype": "text/x-python",
   "name": "python",
   "nbconvert_exporter": "python",
   "pygments_lexer": "ipython3",
   "version": "3.8.8"
  }
 },
 "nbformat": 4,
 "nbformat_minor": 5
}
