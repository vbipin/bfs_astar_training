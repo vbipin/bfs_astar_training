{
 "cells": [
  {
   "cell_type": "code",
   "execution_count": null,
   "id": "0bb13544-24c5-4de8-a759-81f93884b0d3",
   "metadata": {},
   "outputs": [],
   "source": [
    "# In this we create a sall grid world to debug and test our bfs/dfs/ and astar implementations"
   ]
  },
  {
   "cell_type": "code",
   "execution_count": null,
   "id": "d0f96223-9825-40a6-8ddb-56e7a4dee85b",
   "metadata": {},
   "outputs": [],
   "source": []
  },
  {
   "cell_type": "code",
   "execution_count": 1,
   "id": "67136f96-367c-4945-8692-c8eff573af85",
   "metadata": {},
   "outputs": [],
   "source": [
    "#A world is just a 2D list with empty space as 0 and obstacles or walls as 1\n",
    "#You can freely change the world.\n",
    "world = [\n",
    "    [ 0, 0, 0 , 1, 0 ],\n",
    "    [ 0, 0, 0 , 1, 0 ],\n",
    "    [ 0, 1, 1 , 1, 0 ],\n",
    "    [ 0, 0, 0 , 0, 0 ],\n",
    "]"
   ]
  },
  {
   "cell_type": "code",
   "execution_count": 2,
   "id": "443f5fe4-870a-464f-801a-c51e89d2916e",
   "metadata": {},
   "outputs": [],
   "source": [
    "#pretty print the grid and path if given. path -> [ list of nodes ]\n",
    "def print_world(world,path=[]) :\n",
    "    #world is global \n",
    "    for r in range(len(world)) :\n",
    "        for c in range(len(world[0])):\n",
    "            if world[r][c] == 1 :\n",
    "                print('# ', end='')\n",
    "            elif (r,c) in path :\n",
    "                print('* ', end='')  #agent/ path is printed as '*'\n",
    "            else :\n",
    "                print('. ', end='')\n",
    "        print(\"\")\n",
    "    print(\"____________\")"
   ]
  },
  {
   "cell_type": "code",
   "execution_count": 3,
   "id": "c81ce74c-fca5-45ed-9603-a0397aff8efc",
   "metadata": {},
   "outputs": [
    {
     "name": "stdout",
     "output_type": "stream",
     "text": [
      ". . . # . \n",
      ". . . # . \n",
      ". # # # . \n",
      ". . . . . \n",
      "____________\n"
     ]
    }
   ],
   "source": [
    "print_world(world)"
   ]
  },
  {
   "cell_type": "code",
   "execution_count": 26,
   "id": "ca5f7f3e-cfde-46be-a542-bbf7ae4df5ab",
   "metadata": {},
   "outputs": [],
   "source": [
    "#In this world an agent can move in 4 directions\n",
    "left = 0\n",
    "right= 1\n",
    "up   = 2\n",
    "down = 3\n",
    "\n",
    "def move(world, position, action) :\n",
    "    \n",
    "    Nrows    = len(world)\n",
    "    Ncolumns = len(world[0])\n",
    "    \n",
    "    r,c = position\n",
    "    \n",
    "    if action == up :\n",
    "        r,c = r-1, c  \n",
    "    if action == down :\n",
    "        r,c = r+1, c\n",
    "    if action == right :\n",
    "        r,c = r, c+1  \n",
    "    if action == left :\n",
    "        r,c = r, c-1\n",
    "        \n",
    "    #is it outside the grid?   \n",
    "    if r < 0 or r >= Nrows or c < 0 or c >= Ncolumns :\n",
    "        return None\n",
    "    \n",
    "    if world[r][c] != 0 : #is it not free space?\n",
    "        return None\n",
    "    \n",
    "    return r,c #the new position"
   ]
  },
  {
   "cell_type": "code",
   "execution_count": 27,
   "id": "e2312eff-bd26-44de-95ec-f44d563d31d4",
   "metadata": {},
   "outputs": [],
   "source": [
    "def successors( state ) :\n",
    "    \"\"\" returns a list of next valid states from this position\"\"\"\n",
    "    neighbors = []\n",
    "    for direction in [up, left,right,down] :\n",
    "        new = move(world, state, direction)\n",
    "        if new is not None :\n",
    "            neighbors.append( new )\n",
    "    return neighbors"
   ]
  },
  {
   "cell_type": "code",
   "execution_count": null,
   "id": "770e2e7f-ab6e-4770-934d-1887e3bf9291",
   "metadata": {},
   "outputs": [],
   "source": [
    "#########################################################################\n",
    "# BFS - Breadth First Search\n",
    "#########################################################################\n",
    "\n",
    "\n",
    "# Copy the BFS and get_path functions from the metro_map and run here"
   ]
  },
  {
   "cell_type": "code",
   "execution_count": 23,
   "id": "27385590",
   "metadata": {},
   "outputs": [],
   "source": []
  },
  {
   "cell_type": "markdown",
   "id": "332a5378",
   "metadata": {},
   "source": [
    "## Q1 Copy the BFS funtion from the metro_map and run here"
   ]
  },
  {
   "cell_type": "code",
   "execution_count": 11,
   "id": "c7fb14f5-dc20-46d7-8970-928580af934c",
   "metadata": {},
   "outputs": [
    {
     "name": "stdout",
     "output_type": "stream",
     "text": [
      "visited: 10\n",
      "* * * # . \n",
      "* . . # . \n",
      "* # # # . \n",
      "* * * . . \n",
      "____________\n"
     ]
    }
   ],
   "source": [
    "start = (0,2) #start location\n",
    "goal  = (3,2) #end\n",
    "\n",
    "path = bfs( start, goal)\n",
    "print_world(world, path)"
   ]
  },
  {
   "cell_type": "markdown",
   "id": "7428007f",
   "metadata": {},
   "source": [
    "## Q2 Add a print in the bfs loop to print the visited \n",
    "use: print_world(world, list(visited.keys()))"
   ]
  },
  {
   "cell_type": "code",
   "execution_count": null,
   "id": "4da53a5c",
   "metadata": {},
   "outputs": [],
   "source": [
    "#Output "
   ]
  },
  {
   "cell_type": "code",
   "execution_count": null,
   "id": "12aebaff",
   "metadata": {},
   "outputs": [],
   "source": [
    "#########################################################################"
   ]
  },
  {
   "cell_type": "markdown",
   "id": "bcf5a097",
   "metadata": {},
   "source": [
    "## Q3 Define your own world with obstacles and run bfs on it"
   ]
  },
  {
   "cell_type": "code",
   "execution_count": 19,
   "id": "16a1eb92",
   "metadata": {},
   "outputs": [],
   "source": [
    "#example\n",
    "world = [\n",
    "    [ 0, 0, 0 , 0, 0 ],\n",
    "    [ 0, 0, 0 , 1, 0 ],\n",
    "    [ 0, 1, 1 , 1, 0 ],\n",
    "    [ 0, 0, 0 , 1, 0 ],\n",
    "    [ 0, 0, 0 , 0, 0 ],\n",
    "    [ 0, 1, 1 , 0, 0 ],\n",
    "    [ 0, 0, 1 , 0, 0 ],\n",
    "]"
   ]
  },
  {
   "cell_type": "code",
   "execution_count": 25,
   "id": "7d4553a4",
   "metadata": {},
   "outputs": [],
   "source": [
    "start = (1,1) #start location\n",
    "goal  = (4,4) #end\n",
    "\n",
    "#path = bfs( start, goal)\n",
    "#print_world(world, path)"
   ]
  },
  {
   "cell_type": "code",
   "execution_count": null,
   "id": "d3a11a7a",
   "metadata": {},
   "outputs": [],
   "source": []
  },
  {
   "cell_type": "markdown",
   "id": "7aefeeaa",
   "metadata": {},
   "source": [
    "## Q4 Do you think bfs is visiting lot of nodes? Can we improve?"
   ]
  },
  {
   "cell_type": "code",
   "execution_count": null,
   "id": "7563f279",
   "metadata": {},
   "outputs": [],
   "source": [
    "#Discuss heuristics"
   ]
  },
  {
   "cell_type": "code",
   "execution_count": null,
   "id": "5e4b95c8",
   "metadata": {},
   "outputs": [],
   "source": [
    "#Discuss priority queue"
   ]
  }
 ],
 "metadata": {
  "kernelspec": {
   "display_name": "Python 3",
   "language": "python",
   "name": "python3"
  },
  "language_info": {
   "codemirror_mode": {
    "name": "ipython",
    "version": 3
   },
   "file_extension": ".py",
   "mimetype": "text/x-python",
   "name": "python",
   "nbconvert_exporter": "python",
   "pygments_lexer": "ipython3",
   "version": "3.8.8"
  }
 },
 "nbformat": 4,
 "nbformat_minor": 5
}
